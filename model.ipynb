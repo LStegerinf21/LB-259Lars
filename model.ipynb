{
 "cells": [
  {
   "cell_type": "markdown",
   "id": "335a63d3",
   "metadata": {},
   "source": [
    "Da meine bisherige Vorhersage nicht gut Umsetztbar ist, habe ich mich dazu entschieden sie zu ändern.\n",
    "Meine jetztige Vorhersage, sieht folgendermassen aus:\n",
    "Ich möchte die Location, die min und die max Temperatur und der ob es heute regnet eingeben. Und Anhand von dem wird ausgerechnet, ob es morgen eher regnen oder ob es eher nicht regnet."
   ]
  },
  {
   "cell_type": "code",
   "execution_count": 4,
   "id": "100db98b",
   "metadata": {},
   "outputs": [],
   "source": [
    "import pandas as pd\n",
    "dataset_weather = pd.read_csv(\"Datensatz LB-259.csv\", on_bad_lines=\"skip\", sep=\";\")\n"
   ]
  },
  {
   "cell_type": "code",
   "execution_count": 5,
   "id": "a30a8460",
   "metadata": {},
   "outputs": [
    {
     "data": {
      "text/html": [
       "<div>\n",
       "<style scoped>\n",
       "    .dataframe tbody tr th:only-of-type {\n",
       "        vertical-align: middle;\n",
       "    }\n",
       "\n",
       "    .dataframe tbody tr th {\n",
       "        vertical-align: top;\n",
       "    }\n",
       "\n",
       "    .dataframe thead th {\n",
       "        text-align: right;\n",
       "    }\n",
       "</style>\n",
       "<table border=\"1\" class=\"dataframe\">\n",
       "  <thead>\n",
       "    <tr style=\"text-align: right;\">\n",
       "      <th></th>\n",
       "      <th>Location</th>\n",
       "      <th>MinTemp</th>\n",
       "      <th>MaxTemp</th>\n",
       "      <th>RainToday</th>\n",
       "    </tr>\n",
       "  </thead>\n",
       "  <tbody>\n",
       "    <tr>\n",
       "      <th>0</th>\n",
       "      <td>3</td>\n",
       "      <td>13.4</td>\n",
       "      <td>22.9</td>\n",
       "      <td>0.0</td>\n",
       "    </tr>\n",
       "    <tr>\n",
       "      <th>1</th>\n",
       "      <td>3</td>\n",
       "      <td>7.4</td>\n",
       "      <td>25.1</td>\n",
       "      <td>0.0</td>\n",
       "    </tr>\n",
       "    <tr>\n",
       "      <th>2</th>\n",
       "      <td>3</td>\n",
       "      <td>12.9</td>\n",
       "      <td>25.7</td>\n",
       "      <td>0.0</td>\n",
       "    </tr>\n",
       "    <tr>\n",
       "      <th>3</th>\n",
       "      <td>3</td>\n",
       "      <td>9.2</td>\n",
       "      <td>28.0</td>\n",
       "      <td>0.0</td>\n",
       "    </tr>\n",
       "    <tr>\n",
       "      <th>4</th>\n",
       "      <td>3</td>\n",
       "      <td>17.5</td>\n",
       "      <td>32.3</td>\n",
       "      <td>0.0</td>\n",
       "    </tr>\n",
       "  </tbody>\n",
       "</table>\n",
       "</div>"
      ],
      "text/plain": [
       "   Location  MinTemp  MaxTemp  RainToday\n",
       "0         3     13.4     22.9        0.0\n",
       "1         3      7.4     25.1        0.0\n",
       "2         3     12.9     25.7        0.0\n",
       "3         3      9.2     28.0        0.0\n",
       "4         3     17.5     32.3        0.0"
      ]
     },
     "execution_count": 5,
     "metadata": {},
     "output_type": "execute_result"
    }
   ],
   "source": [
    "\n",
    "X = dataset_weather[[\"Location\", \"MinTemp\",\"MaxTemp\", \"RainToday\"]]\n",
    "y = dataset_weather[[\"RainTomorrow\"]]\n",
    "X.head()"
   ]
  },
  {
   "cell_type": "code",
   "execution_count": 6,
   "id": "30c2f5c0",
   "metadata": {},
   "outputs": [
    {
     "data": {
      "text/plain": [
       "0"
      ]
     },
     "execution_count": 6,
     "metadata": {},
     "output_type": "execute_result"
    }
   ],
   "source": [
    "from sklearn.impute import SimpleImputer\n",
    "import numpy as np\n",
    "si = SimpleImputer(missing_values=np.nan, strategy='most_frequent')\n",
    "si.fit(y)\n",
    "y_ = si.transform(y)\n",
    "y = pd.DataFrame(y_, columns=y.columns)\n",
    "len(y[y.isna().any(axis=1)])\n",
    "si.fit(X)\n",
    "X_ = si.transform(X)\n",
    "X = pd.DataFrame(X_, columns=X.columns)\n",
    "len(X[X.isna().any(axis=1)])"
   ]
  },
  {
   "cell_type": "code",
   "execution_count": 7,
   "id": "e533767c",
   "metadata": {},
   "outputs": [
    {
     "data": {
      "text/plain": [
       "(116368, 29092)"
      ]
     },
     "execution_count": 7,
     "metadata": {},
     "output_type": "execute_result"
    }
   ],
   "source": [
    "# 👾 TODO: Split the titanic data into suitable test and train sets\n",
    "from sklearn.model_selection import train_test_split\n",
    "\n",
    "X_train, X_test, y_train, y_test = train_test_split(\n",
    "   X, y, test_size = 0.2, random_state = 42\n",
    ")\n",
    "\n",
    "len(X_train), len(X_test)"
   ]
  },
  {
   "cell_type": "code",
   "execution_count": 9,
   "id": "f04492d8",
   "metadata": {},
   "outputs": [
    {
     "name": "stdout",
     "output_type": "stream",
     "text": [
      "Nearest Neighbors 0.77\n",
      "Decision Tree 0.79\n",
      "Random Forest 0.78\n",
      "Neural Net 0.8\n",
      "Naive Bayes 0.76\n",
      "LDA 0.79\n"
     ]
    }
   ],
   "source": [
    "from sklearn.neural_network import MLPClassifier\n",
    "from sklearn.neighbors import KNeighborsClassifier\n",
    "\n",
    "from sklearn.tree import DecisionTreeClassifier\n",
    "from sklearn.ensemble import RandomForestClassifier\n",
    "from sklearn.naive_bayes import GaussianNB\n",
    "from sklearn.discriminant_analysis import LinearDiscriminantAnalysis\n",
    "\n",
    "algorithms = {\n",
    "    \"Nearest Neighbors\" : KNeighborsClassifier(3),\n",
    "\n",
    "    \"Decision Tree\" : DecisionTreeClassifier(max_depth=5),\n",
    "    \"Random Forest\" : RandomForestClassifier(max_depth=5, n_estimators=10, max_features=1),\n",
    "    \"Neural Net\" : MLPClassifier(alpha=1, max_iter=1000),\n",
    "    \"Naive Bayes\" : GaussianNB(),\n",
    "    \"LDA\" : LinearDiscriminantAnalysis(),\n",
    "}\n",
    "\n",
    "\n",
    "for name, algorithm in algorithms.items():\n",
    "    # 👾 TODO: Run each algorithm on X_train and y_train\n",
    "    # using the .fit function; then evaluate it using\n",
    "    # algorithm.score(X_test, y_test) and print the\n",
    "    # name and score for each algorithm - which one \n",
    "    # performs the best?\n",
    "    \n",
    "    # You might need to use y_train.values.ravel()\n",
    "    # rather than y_train in the fit()-function\n",
    "    algorithm.fit(X_train, y_train.values.ravel())\n",
    "\n",
    "    score = algorithm.score(X_test, y_test)\n",
    "    print(name, round(score,2))\n"
   ]
  },
  {
   "cell_type": "code",
   "execution_count": null,
   "id": "9f2f9772",
   "metadata": {},
   "outputs": [],
   "source": [
    "!pip install sklearn"
   ]
  },
  {
   "cell_type": "markdown",
   "id": "7f714c96",
   "metadata": {},
   "source": [
    "Ich habe Naive Bayes Algorithmus genommen, da alle algorithmen etwa die gleiche Wahrscheinlichkeit auf Erfolg haben. Da ich von Mitschülern gehört habe, das sie auch diesen genommen haben, habe ich mich dann für Naive Bayes entschieden. \n",
    "Der naive Bayes macht wird eingesetzt, wenn die Wahrscheinlichkeiten der Klassen anhand einer Reihe von Beobachtungen zu bestimmen sind."
   ]
  },
  {
   "cell_type": "code",
   "execution_count": 10,
   "id": "1355f7c3",
   "metadata": {},
   "outputs": [
    {
     "data": {
      "text/plain": [
       "GaussianNB()"
      ]
     },
     "execution_count": 10,
     "metadata": {},
     "output_type": "execute_result"
    }
   ],
   "source": [
    "import joblib\n",
    "joblib.dump(algorithms[\"Naive Bayes\"], 'dataset_weather_naive_bayes.joblib')\n",
    "best_model = joblib.load('dataset_weather_naive_bayes.joblib')\n",
    "best_model"
   ]
  },
  {
   "cell_type": "code",
   "execution_count": 41,
   "id": "25bc7324",
   "metadata": {},
   "outputs": [
    {
     "data": {
      "text/html": [
       "<div>\n",
       "<style scoped>\n",
       "    .dataframe tbody tr th:only-of-type {\n",
       "        vertical-align: middle;\n",
       "    }\n",
       "\n",
       "    .dataframe tbody tr th {\n",
       "        vertical-align: top;\n",
       "    }\n",
       "\n",
       "    .dataframe thead th {\n",
       "        text-align: right;\n",
       "    }\n",
       "</style>\n",
       "<table border=\"1\" class=\"dataframe\">\n",
       "  <thead>\n",
       "    <tr style=\"text-align: right;\">\n",
       "      <th></th>\n",
       "      <th>Location</th>\n",
       "      <th>MinTemp</th>\n",
       "      <th>MaxTemp</th>\n",
       "      <th>RainToday</th>\n",
       "    </tr>\n",
       "  </thead>\n",
       "  <tbody>\n",
       "    <tr>\n",
       "      <th>0</th>\n",
       "      <td>7</td>\n",
       "      <td>7.7</td>\n",
       "      <td>18.7</td>\n",
       "      <td>1.0</td>\n",
       "    </tr>\n",
       "  </tbody>\n",
       "</table>\n",
       "</div>"
      ],
      "text/plain": [
       "   Location  MinTemp  MaxTemp  RainToday\n",
       "0         7      7.7     18.7        1.0"
      ]
     },
     "execution_count": 41,
     "metadata": {},
     "output_type": "execute_result"
    }
   ],
   "source": [
    "prediction1 = pd.DataFrame([[30, 17.7, 24.7, 0.0]], columns=X_train.columns)\n",
    "prediction1.head()\n",
    "\n",
    "prediction2 = pd.DataFrame([[3, 22.7, 30.0, 1.0]], columns=X_train.columns)\n",
    "prediction2.head()\n",
    "\n",
    "prediction3 = pd.DataFrame([[14, 11.2, 20.0, 0.0]], columns=X_train.columns)\n",
    "prediction3.head()\n",
    "\n",
    "prediction4 = pd.DataFrame([[7, 7.7, 18.7, 1.0]], columns=X_train.columns)\n",
    "prediction4.head()"
   ]
  },
  {
   "cell_type": "code",
   "execution_count": 51,
   "id": "e6b0b626",
   "metadata": {},
   "outputs": [
    {
     "data": {
      "text/html": [
       "<div>\n",
       "<style scoped>\n",
       "    .dataframe tbody tr th:only-of-type {\n",
       "        vertical-align: middle;\n",
       "    }\n",
       "\n",
       "    .dataframe tbody tr th {\n",
       "        vertical-align: top;\n",
       "    }\n",
       "\n",
       "    .dataframe thead th {\n",
       "        text-align: right;\n",
       "    }\n",
       "</style>\n",
       "<table border=\"1\" class=\"dataframe\">\n",
       "  <thead>\n",
       "    <tr style=\"text-align: right;\">\n",
       "      <th></th>\n",
       "      <th>Location</th>\n",
       "      <th>MinTemp</th>\n",
       "      <th>MaxTemp</th>\n",
       "      <th>RainToday</th>\n",
       "    </tr>\n",
       "  </thead>\n",
       "  <tbody>\n",
       "    <tr>\n",
       "      <th>0</th>\n",
       "      <td>30</td>\n",
       "      <td>17.7</td>\n",
       "      <td>24.7</td>\n",
       "      <td>0.0</td>\n",
       "    </tr>\n",
       "    <tr>\n",
       "      <th>0</th>\n",
       "      <td>3</td>\n",
       "      <td>22.7</td>\n",
       "      <td>30.0</td>\n",
       "      <td>1.0</td>\n",
       "    </tr>\n",
       "    <tr>\n",
       "      <th>0</th>\n",
       "      <td>14</td>\n",
       "      <td>11.2</td>\n",
       "      <td>20.0</td>\n",
       "      <td>0.0</td>\n",
       "    </tr>\n",
       "    <tr>\n",
       "      <th>0</th>\n",
       "      <td>7</td>\n",
       "      <td>7.7</td>\n",
       "      <td>18.7</td>\n",
       "      <td>1.0</td>\n",
       "    </tr>\n",
       "  </tbody>\n",
       "</table>\n",
       "</div>"
      ],
      "text/plain": [
       "   Location  MinTemp  MaxTemp  RainToday\n",
       "0        30     17.7     24.7        0.0\n",
       "0         3     22.7     30.0        1.0\n",
       "0        14     11.2     20.0        0.0\n",
       "0         7      7.7     18.7        1.0"
      ]
     },
     "execution_count": 51,
     "metadata": {},
     "output_type": "execute_result"
    }
   ],
   "source": [
    "lovebirds_at_sea = pd.concat([prediction1, prediction2, prediction3, prediction4])\n",
    "lovebirds_at_sea.head()"
   ]
  },
  {
   "cell_type": "code",
   "execution_count": 50,
   "id": "7b08b307",
   "metadata": {},
   "outputs": [
    {
     "name": "stdout",
     "output_type": "stream",
     "text": [
      "Prediction 1: Morgen wird es  nicht regnen\n",
      "Prediction 2: Morgen wird es  regnen\n",
      "Prediction 3: Morgen wird es  nicht regnen\n",
      "Prediction 4: Morgen wird es  regnen\n"
     ]
    }
   ],
   "source": [
    "predictions = best_model.predict(pd.concat([prediction1, prediction2, prediction3, prediction4]))\n",
    "for values, prediction in zip([\"Prediction 1: Morgen wird es \", \"Prediction 2: Morgen wird es \", \"Prediction 3: Morgen wird es \", \"Prediction 4: Morgen wird es \"], predictions):\n",
    "    print(f\"{values} {'nicht regnen' if prediction == 0 else 'regnen'}\")"
   ]
  },
  {
   "cell_type": "markdown",
   "id": "c8c8bd2d",
   "metadata": {},
   "source": [
    "Meine Prediction funktioniert, jedoch hängt es sehr sehr stark nur von der Spalte RainToday ab. Da es sehr wahrscheinlich ist, dass wenn es heute regnet das es dann auch morgen regnet. Ich denke von der Location hängt es von allen Angaben am wenigsten ab. So finde ich, macht die Vorhersage nicht allzuviel sind."
   ]
  }
 ],
 "metadata": {
  "kernelspec": {
   "display_name": "Python 3 (ipykernel)",
   "language": "python",
   "name": "python3"
  },
  "language_info": {
   "codemirror_mode": {
    "name": "ipython",
    "version": 3
   },
   "file_extension": ".py",
   "mimetype": "text/x-python",
   "name": "python",
   "nbconvert_exporter": "python",
   "pygments_lexer": "ipython3",
   "version": "3.10.2"
  }
 },
 "nbformat": 4,
 "nbformat_minor": 5
}
